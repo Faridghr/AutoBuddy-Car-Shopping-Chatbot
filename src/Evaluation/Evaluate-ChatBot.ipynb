{
 "cells": [
  {
   "cell_type": "markdown",
   "metadata": {},
   "source": [
    "## Import Libraries"
   ]
  },
  {
   "cell_type": "code",
   "execution_count": 1,
   "metadata": {},
   "outputs": [
    {
     "name": "stderr",
     "output_type": "stream",
     "text": [
      "c:\\Python311\\Lib\\site-packages\\pinecone\\data\\index.py:1: TqdmWarning: IProgress not found. Please update jupyter and ipywidgets. See https://ipywidgets.readthedocs.io/en/stable/user_install.html\n",
      "  from tqdm.autonotebook import tqdm\n"
     ]
    }
   ],
   "source": [
    "from langchain.document_loaders import TextLoader\n",
    "from langchain.text_splitter import CharacterTextSplitter\n",
    "from langchain.embeddings import HuggingFaceEmbeddings\n",
    "from langchain.vectorstores import Pinecone\n",
    "from langchain.llms import HuggingFaceHub\n",
    "from dotenv import load_dotenv\n",
    "import os\n",
    "from pinecone import Pinecone, ServerlessSpec\n",
    "from langchain import PromptTemplate\n",
    "from langchain.schema.runnable import RunnablePassthrough\n",
    "from langchain.schema.output_parser import StrOutputParser\n",
    "from langchain.chains import ConversationalRetrievalChain, RetrievalQA\n",
    "from langchain_pinecone import PineconeVectorStore\n",
    "from openai import OpenAI\n",
    "from langchain_openai import ChatOpenAI\n",
    "import streamlit as st\n",
    "import json"
   ]
  },
  {
   "cell_type": "markdown",
   "metadata": {},
   "source": [
    "## Load and split documents"
   ]
  },
  {
   "cell_type": "code",
   "execution_count": 3,
   "metadata": {},
   "outputs": [
    {
     "name": "stderr",
     "output_type": "stream",
     "text": [
      "Created a chunk of size 1010, which is longer than the specified 1000\n",
      "Created a chunk of size 1031, which is longer than the specified 1000\n",
      "Created a chunk of size 1058, which is longer than the specified 1000\n",
      "Created a chunk of size 1048, which is longer than the specified 1000\n",
      "Created a chunk of size 1193, which is longer than the specified 1000\n"
     ]
    },
    {
     "name": "stderr",
     "output_type": "stream",
     "text": [
      "Created a chunk of size 1004, which is longer than the specified 1000\n",
      "Created a chunk of size 1118, which is longer than the specified 1000\n",
      "Created a chunk of size 1167, which is longer than the specified 1000\n",
      "Created a chunk of size 1084, which is longer than the specified 1000\n",
      "Created a chunk of size 1054, which is longer than the specified 1000\n",
      "Created a chunk of size 1005, which is longer than the specified 1000\n",
      "Created a chunk of size 1179, which is longer than the specified 1000\n",
      "Created a chunk of size 1102, which is longer than the specified 1000\n",
      "Created a chunk of size 1108, which is longer than the specified 1000\n",
      "Created a chunk of size 1131, which is longer than the specified 1000\n",
      "Created a chunk of size 1030, which is longer than the specified 1000\n",
      "Created a chunk of size 1039, which is longer than the specified 1000\n",
      "Created a chunk of size 1037, which is longer than the specified 1000\n",
      "Created a chunk of size 1150, which is longer than the specified 1000\n",
      "Created a chunk of size 1101, which is longer than the specified 1000\n",
      "Created a chunk of size 1078, which is longer than the specified 1000\n",
      "Created a chunk of size 1159, which is longer than the specified 1000\n",
      "Created a chunk of size 1088, which is longer than the specified 1000\n",
      "Created a chunk of size 1005, which is longer than the specified 1000\n",
      "Created a chunk of size 1009, which is longer than the specified 1000\n",
      "Created a chunk of size 1222, which is longer than the specified 1000\n",
      "Created a chunk of size 1032, which is longer than the specified 1000\n",
      "Created a chunk of size 1023, which is longer than the specified 1000\n",
      "Created a chunk of size 1210, which is longer than the specified 1000\n",
      "Created a chunk of size 1177, which is longer than the specified 1000\n",
      "Created a chunk of size 1067, which is longer than the specified 1000\n",
      "Created a chunk of size 1098, which is longer than the specified 1000\n",
      "Created a chunk of size 1234, which is longer than the specified 1000\n",
      "Created a chunk of size 1092, which is longer than the specified 1000\n",
      "Created a chunk of size 1127, which is longer than the specified 1000\n",
      "Created a chunk of size 1083, which is longer than the specified 1000\n",
      "Created a chunk of size 1071, which is longer than the specified 1000\n",
      "Created a chunk of size 1077, which is longer than the specified 1000\n",
      "Created a chunk of size 1105, which is longer than the specified 1000\n",
      "Created a chunk of size 1007, which is longer than the specified 1000\n",
      "Created a chunk of size 1041, which is longer than the specified 1000\n",
      "Created a chunk of size 1052, which is longer than the specified 1000\n",
      "Created a chunk of size 1132, which is longer than the specified 1000\n",
      "Created a chunk of size 1095, which is longer than the specified 1000\n",
      "Created a chunk of size 1022, which is longer than the specified 1000\n",
      "Created a chunk of size 1180, which is longer than the specified 1000\n",
      "Created a chunk of size 1172, which is longer than the specified 1000\n",
      "Created a chunk of size 1007, which is longer than the specified 1000\n",
      "Created a chunk of size 1083, which is longer than the specified 1000\n",
      "Created a chunk of size 1014, which is longer than the specified 1000\n",
      "Created a chunk of size 1013, which is longer than the specified 1000\n",
      "Created a chunk of size 1178, which is longer than the specified 1000\n",
      "Created a chunk of size 1041, which is longer than the specified 1000\n",
      "Created a chunk of size 1012, which is longer than the specified 1000\n",
      "Created a chunk of size 1085, which is longer than the specified 1000\n",
      "Created a chunk of size 1281, which is longer than the specified 1000\n",
      "Created a chunk of size 1111, which is longer than the specified 1000\n",
      "Created a chunk of size 1023, which is longer than the specified 1000\n",
      "Created a chunk of size 1159, which is longer than the specified 1000\n",
      "Created a chunk of size 1055, which is longer than the specified 1000\n",
      "Created a chunk of size 1156, which is longer than the specified 1000\n",
      "Created a chunk of size 1028, which is longer than the specified 1000\n",
      "Created a chunk of size 1064, which is longer than the specified 1000\n",
      "Created a chunk of size 1057, which is longer than the specified 1000\n",
      "Created a chunk of size 1007, which is longer than the specified 1000\n",
      "Created a chunk of size 1040, which is longer than the specified 1000\n",
      "Created a chunk of size 1049, which is longer than the specified 1000\n",
      "Created a chunk of size 1029, which is longer than the specified 1000\n",
      "Created a chunk of size 1033, which is longer than the specified 1000\n",
      "Created a chunk of size 1017, which is longer than the specified 1000\n",
      "Created a chunk of size 1160, which is longer than the specified 1000\n",
      "Created a chunk of size 1092, which is longer than the specified 1000\n",
      "Created a chunk of size 1109, which is longer than the specified 1000\n",
      "Created a chunk of size 1069, which is longer than the specified 1000\n",
      "Created a chunk of size 1272, which is longer than the specified 1000\n",
      "Created a chunk of size 1088, which is longer than the specified 1000\n",
      "Created a chunk of size 1070, which is longer than the specified 1000\n",
      "Created a chunk of size 1065, which is longer than the specified 1000\n",
      "Created a chunk of size 1029, which is longer than the specified 1000\n",
      "Created a chunk of size 1023, which is longer than the specified 1000\n",
      "Created a chunk of size 1005, which is longer than the specified 1000\n",
      "Created a chunk of size 1006, which is longer than the specified 1000\n",
      "Created a chunk of size 1056, which is longer than the specified 1000\n",
      "Created a chunk of size 1050, which is longer than the specified 1000\n",
      "Created a chunk of size 1036, which is longer than the specified 1000\n",
      "Created a chunk of size 1040, which is longer than the specified 1000\n",
      "Created a chunk of size 1197, which is longer than the specified 1000\n",
      "Created a chunk of size 1189, which is longer than the specified 1000\n",
      "Created a chunk of size 1087, which is longer than the specified 1000\n",
      "Created a chunk of size 1001, which is longer than the specified 1000\n",
      "Created a chunk of size 1168, which is longer than the specified 1000\n",
      "Created a chunk of size 1027, which is longer than the specified 1000\n",
      "Created a chunk of size 1478, which is longer than the specified 1000\n",
      "Created a chunk of size 1529, which is longer than the specified 1000\n",
      "Created a chunk of size 1066, which is longer than the specified 1000\n",
      "Created a chunk of size 1095, which is longer than the specified 1000\n",
      "Created a chunk of size 1047, which is longer than the specified 1000\n",
      "Created a chunk of size 1079, which is longer than the specified 1000\n",
      "Created a chunk of size 1154, which is longer than the specified 1000\n",
      "Created a chunk of size 1155, which is longer than the specified 1000\n",
      "Created a chunk of size 1086, which is longer than the specified 1000\n",
      "Created a chunk of size 1052, which is longer than the specified 1000\n",
      "Created a chunk of size 1011, which is longer than the specified 1000\n",
      "Created a chunk of size 1055, which is longer than the specified 1000\n",
      "Created a chunk of size 1125, which is longer than the specified 1000\n",
      "Created a chunk of size 1007, which is longer than the specified 1000\n",
      "Created a chunk of size 1411, which is longer than the specified 1000\n",
      "Created a chunk of size 1136, which is longer than the specified 1000\n",
      "Created a chunk of size 1092, which is longer than the specified 1000\n",
      "Created a chunk of size 1074, which is longer than the specified 1000\n",
      "Created a chunk of size 1115, which is longer than the specified 1000\n",
      "Created a chunk of size 1110, which is longer than the specified 1000\n",
      "Created a chunk of size 1121, which is longer than the specified 1000\n",
      "Created a chunk of size 1078, which is longer than the specified 1000\n",
      "Created a chunk of size 1063, which is longer than the specified 1000\n",
      "Created a chunk of size 1095, which is longer than the specified 1000\n",
      "Created a chunk of size 1192, which is longer than the specified 1000\n",
      "Created a chunk of size 1108, which is longer than the specified 1000\n",
      "Created a chunk of size 1004, which is longer than the specified 1000\n",
      "Created a chunk of size 1074, which is longer than the specified 1000\n",
      "Created a chunk of size 1057, which is longer than the specified 1000\n",
      "Created a chunk of size 1035, which is longer than the specified 1000\n",
      "Created a chunk of size 1035, which is longer than the specified 1000\n",
      "Created a chunk of size 1012, which is longer than the specified 1000\n",
      "Created a chunk of size 1052, which is longer than the specified 1000\n",
      "Created a chunk of size 1017, which is longer than the specified 1000\n",
      "Created a chunk of size 1381, which is longer than the specified 1000\n",
      "Created a chunk of size 1405, which is longer than the specified 1000\n",
      "Created a chunk of size 1246, which is longer than the specified 1000\n",
      "Created a chunk of size 1169, which is longer than the specified 1000\n",
      "Created a chunk of size 1260, which is longer than the specified 1000\n"
     ]
    }
   ],
   "source": [
    "loader = TextLoader('../Materials/CarsInformation.txt')\n",
    "documents = loader.load()\n",
    "text_splitter = CharacterTextSplitter(chunk_size=1000, chunk_overlap=4)\n",
    "docs = text_splitter.split_documents(documents)"
   ]
  },
  {
   "cell_type": "markdown",
   "metadata": {},
   "source": [
    "## Initialize embeddings"
   ]
  },
  {
   "cell_type": "code",
   "execution_count": 4,
   "metadata": {},
   "outputs": [
    {
     "name": "stderr",
     "output_type": "stream",
     "text": [
      "c:\\Python311\\Lib\\site-packages\\langchain_core\\_api\\deprecation.py:139: LangChainDeprecationWarning: The class `HuggingFaceEmbeddings` was deprecated in LangChain 0.2.2 and will be removed in 0.3.0. An updated version of the class exists in the langchain-huggingface package and should be used instead. To use it run `pip install -U langchain-huggingface` and import as `from langchain_huggingface import HuggingFaceEmbeddings`.\n",
      "  warn_deprecated(\n"
     ]
    },
    {
     "name": "stdout",
     "output_type": "stream",
     "text": [
      "WARNING:tensorflow:From c:\\Python311\\Lib\\site-packages\\keras\\src\\losses.py:2976: The name tf.losses.sparse_softmax_cross_entropy is deprecated. Please use tf.compat.v1.losses.sparse_softmax_cross_entropy instead.\n",
      "\n"
     ]
    }
   ],
   "source": [
    "embeddings = HuggingFaceEmbeddings()"
   ]
  },
  {
   "cell_type": "markdown",
   "metadata": {},
   "source": [
    "## Initialize Pinecone instance"
   ]
  },
  {
   "cell_type": "code",
   "execution_count": 5,
   "metadata": {},
   "outputs": [],
   "source": [
    "pc = Pinecone(api_key= os.getenv('PINECONE_API_KEY'))\n",
    "\n",
    "index_name = \"langchain-demo\"\n",
    "\n",
    "if index_name not in pc.list_indexes().names():\n",
    "    pc.create_index(\n",
    "        name=index_name,\n",
    "        dimension=768,\n",
    "        metric=\"cosine\",\n",
    "        spec=ServerlessSpec(\n",
    "            cloud=\"aws\",\n",
    "            region=\"us-east-1\"\n",
    "        )            \n",
    "    )\n",
    "index = pc.Index(index_name)\n",
    "docsearch = PineconeVectorStore.from_documents(docs, embeddings, index_name=index_name)"
   ]
  },
  {
   "cell_type": "markdown",
   "metadata": {},
   "source": [
    "## Load fine-tuned model ID"
   ]
  },
  {
   "cell_type": "code",
   "execution_count": 17,
   "metadata": {},
   "outputs": [
    {
     "name": "stdout",
     "output_type": "stream",
     "text": [
      "ft:gpt-4o-mini-2024-07-18:personal::9wGN95V0\n"
     ]
    }
   ],
   "source": [
    "with open('../Fine-Tune/fine_tuned_model_id.txt', \"r\") as f:\n",
    "    fine_tuned_model_id = f.read().strip()\n",
    "\n",
    "print(fine_tuned_model_id)"
   ]
  },
  {
   "cell_type": "markdown",
   "metadata": {},
   "source": [
    "## Initialize ChatOpenAI"
   ]
  },
  {
   "cell_type": "code",
   "execution_count": 18,
   "metadata": {},
   "outputs": [],
   "source": [
    "model_name = fine_tuned_model_id\n",
    "llm = ChatOpenAI(model_name=model_name, organization='org-G8UtpAEtkeLatwCgEhQGaPOw')"
   ]
  },
  {
   "cell_type": "markdown",
   "metadata": {},
   "source": [
    "## Define prompt template"
   ]
  },
  {
   "cell_type": "code",
   "execution_count": 19,
   "metadata": {},
   "outputs": [],
   "source": [
    "template = \"\"\"\n",
    "    You are an advanced car shopping assistant chatbot. Your goal is to help users find the perfect car based on their preferences and requirements. You will ask for user preferences step-by-step and use the information provided to give personalized recommendations. Start by introducing yourself and then proceed with the following steps:\n",
    "\n",
    "    1. Greet the user and introduce yourself.\n",
    "    2. Ask the user for their budget range.\n",
    "    3. Ask about the type of car they are interested in (e.g., sedan, SUV, truck, etc.).\n",
    "    4. Inquire about the preferred brand or any specific brands they have in mind.\n",
    "    5. Ask about the primary use of the car (e.g., daily commute, family trips, off-roading, etc.).\n",
    "    6. Determine any must-have features (e.g., fuel efficiency, safety features, technology, etc.).\n",
    "    7. Ask if they have any other specific requirements or preferences.\n",
    "    8. Summarize the user's preferences and provide a few car recommendations based on their answers with the link of company website that can buy the car.\n",
    "    9. Offer to provide more details about any of the recommended cars or answer any additional questions.\n",
    "\n",
    "    Use the user's answers and the following combined context to answer the question accurately and concisely. If the user is unsure about something, offer suggestions or ask follow-up questions to help them clarify their needs.\n",
    "\n",
    "    If the combined context does not contain the answer, simply state that you don't know.\n",
    "\n",
    "    Combined Context: {context}\n",
    "    Question: {question}\n",
    "    Answer:\n",
    "\"\"\""
   ]
  },
  {
   "cell_type": "markdown",
   "metadata": {},
   "source": [
    "## RAG Pipeline"
   ]
  },
  {
   "cell_type": "code",
   "execution_count": 20,
   "metadata": {},
   "outputs": [],
   "source": [
    "prompt = PromptTemplate(template=template, input_variables=[\"context\", \"question\"])\n",
    "\n",
    "rag_chain = RetrievalQA.from_chain_type(\n",
    "    llm, retriever=docsearch.as_retriever(), chain_type_kwargs={\"prompt\": prompt}\n",
    ")"
   ]
  },
  {
   "cell_type": "markdown",
   "metadata": {},
   "source": [
    "## List of queries for evaluation"
   ]
  },
  {
   "cell_type": "code",
   "execution_count": 21,
   "metadata": {},
   "outputs": [],
   "source": [
    "queries = [\n",
    "    \"What’s the best electric car for long-distance travel?\",\n",
    "    \"Can you suggest a reliable SUV for a family of four?\",\n",
    "    \"What’s a good car with a spacious trunk?\",\n",
    "    \"Which hybrid car offers the best fuel efficiency?\",\n",
    "    \"Can you recommend a compact car that’s easy to park in the city?\"\n",
    "]"
   ]
  },
  {
   "cell_type": "markdown",
   "metadata": {},
   "source": [
    "## Function to generate context retrieval and answer"
   ]
  },
  {
   "cell_type": "code",
   "execution_count": 22,
   "metadata": {},
   "outputs": [],
   "source": [
    "def generate_evaluation_data(query):\n",
    "    retrieval_results = docsearch.similarity_search(query)\n",
    "    contexts = [result.page_content for result in retrieval_results]\n",
    "    # combined_context = \" \".join(contexts)\n",
    "    result = rag_chain.invoke(query)\n",
    "    return {\n",
    "        \"query\": query,\n",
    "        \"contexts\": contexts,\n",
    "        \"answer\": result[\"result\"]\n",
    "    }"
   ]
  },
  {
   "cell_type": "markdown",
   "metadata": {},
   "source": [
    "## Generate and store evaluation data"
   ]
  },
  {
   "cell_type": "code",
   "execution_count": 23,
   "metadata": {},
   "outputs": [],
   "source": [
    "evaluation_data = [generate_evaluation_data(query) for query in queries]"
   ]
  },
  {
   "cell_type": "code",
   "execution_count": 24,
   "metadata": {},
   "outputs": [
    {
     "name": "stdout",
     "output_type": "stream",
     "text": [
      "Query: What’s the best electric car for long-distance travel?\n",
      "\n",
      "Context: 1. **Model Name**: Kia EV6\n",
      "2. **Year**: 2024\n",
      "3. **Starting Price**: CAD ~$50,000 (prices may vary)\n",
      "4. **Engine Options**: \n",
      "   - Single-motor RWD (167-225 hp)\n",
      "   - Dual-motor AWD (320 hp)\n",
      "5. **Key Features**: \n",
      "   - Fast charging capability (up to 80% in 18 minutes)\n",
      "   - Long-range battery (up to 500 km range)\n",
      "   - 12.3-inch dual widescreen displays\n",
      "   - Advanced Driver Assistance Systems (ADAS)\n",
      "6. **Available Trims**: \n",
      "   - Standard Range RWD\n",
      "   - Long Range RWD\n",
      "   - Long Range AWD\n",
      "   - GT-Line AWD\n",
      "7. **Fuel Economy (City/Highway)**: Electric consumption ~18.5/17.8 kWh/100 km\n",
      "8. **Safety Ratings**: Expected to be high; not yet rated by IIHS and NHTSA\n",
      "9. **Warranty Information**: \n",
      "   - 5-year/100,000 km comprehensive warranty\n",
      "   - 5-year/unlimited km roadside assistance\n",
      "   - 8-year/160,000 km battery warranty\n",
      "10. **Financial Rate**: Approx. 1.99% APR (subject to change)\n",
      "11. **Lease Rate**: Approx. 2.49% (subject to change)\n",
      "12. **Type**: Electric SUV\n",
      "13. **Link to Official Webpage**: [Kia EV6](https://www.kia.ca/ev6)\n",
      "\n",
      "Answer: I recommend the Kia EV6. It has a long-range battery offering up to 500 km on a single charge, making it ideal for long-distance travel. More details and purchase options are available [here](https://www.kia.ca/ev6).\n"
     ]
    }
   ],
   "source": [
    "print(\"Query: \" + evaluation_data[0]['query'] + \"\\n\")\n",
    "print(\"Context: \" + evaluation_data[0]['contexts'][0] + \"\\n\")\n",
    "print(\"Answer: \" + evaluation_data[0]['answer'])\n"
   ]
  },
  {
   "cell_type": "markdown",
   "metadata": {},
   "source": [
    "## Save evaluation data to a JSON file for human evaluation"
   ]
  },
  {
   "cell_type": "code",
   "execution_count": 25,
   "metadata": {},
   "outputs": [
    {
     "name": "stdout",
     "output_type": "stream",
     "text": [
      "Evaluation data has been generated and saved to evaluation_data.json\n"
     ]
    }
   ],
   "source": [
    "with open('evaluation_data.json', 'w') as f:\n",
    "    json.dump(evaluation_data, f, indent=4)\n",
    "\n",
    "print(\"Evaluation data has been generated and saved to evaluation_data.json\")"
   ]
  },
  {
   "cell_type": "markdown",
   "metadata": {},
   "source": [
    "## Evaluation function for context relevance"
   ]
  },
  {
   "cell_type": "code",
   "execution_count": 26,
   "metadata": {},
   "outputs": [],
   "source": [
    "from sklearn.feature_extraction.text import TfidfVectorizer\n",
    "from sklearn.metrics.pairwise import cosine_similarity\n",
    "\n",
    "def evaluate_context_relevance(questions, retrieved_contexts):\n",
    "    vectorizer = TfidfVectorizer().fit_transform(retrieved_contexts + questions)\n",
    "    vectors = vectorizer.toarray()\n",
    "    relevance_scores = []\n",
    "    \n",
    "    for i, question in enumerate(questions):\n",
    "        context_vector = vectors[i]\n",
    "        question_vector = vectors[len(questions) + i]\n",
    "        cosine_sim = cosine_similarity([context_vector], [question_vector])[0][0]\n",
    "        relevance_scores.append(cosine_sim)\n",
    "    \n",
    "    return relevance_scores"
   ]
  },
  {
   "cell_type": "markdown",
   "metadata": {},
   "source": [
    "## Retrieve context and generate answers"
   ]
  },
  {
   "cell_type": "code",
   "execution_count": 27,
   "metadata": {},
   "outputs": [],
   "source": [
    "retrieved_contexts = []\n",
    "\n",
    "for data in evaluation_data:\n",
    "    retrieved_contexts.append(data['contexts'][0])\n",
    "\n",
    "generated_answers = []\n",
    "\n",
    "for data in evaluation_data:\n",
    "    generated_answers.append(data['answer'])"
   ]
  },
  {
   "cell_type": "markdown",
   "metadata": {},
   "source": [
    "## Evaluate context relevance"
   ]
  },
  {
   "cell_type": "code",
   "execution_count": 28,
   "metadata": {},
   "outputs": [
    {
     "data": {
      "text/plain": [
       "[0.10596395744140033,\n",
       " 0.020952840189126704,\n",
       " 0.0,\n",
       " 0.1951946798984531,\n",
       " 0.03682295724389945]"
      ]
     },
     "execution_count": 28,
     "metadata": {},
     "output_type": "execute_result"
    }
   ],
   "source": [
    "context_relevance_scores = evaluate_context_relevance(queries, retrieved_contexts)\n",
    "\n",
    "context_relevance_scores"
   ]
  },
  {
   "cell_type": "markdown",
   "metadata": {},
   "source": [
    "## Display results"
   ]
  },
  {
   "cell_type": "code",
   "execution_count": 30,
   "metadata": {},
   "outputs": [
    {
     "name": "stdout",
     "output_type": "stream",
     "text": [
      "{\n",
      "    \"questions\": [\n",
      "        \"What\\u2019s the best electric car for long-distance travel?\",\n",
      "        \"Can you suggest a reliable SUV for a family of four?\",\n",
      "        \"What\\u2019s a good car with a spacious trunk?\",\n",
      "        \"Which hybrid car offers the best fuel efficiency?\",\n",
      "        \"Can you recommend a compact car that\\u2019s easy to park in the city?\"\n",
      "    ],\n",
      "    \"retrieved_contexts\": [\n",
      "        \"1. **Model Name**: Kia EV6\\n2. **Year**: 2024\\n3. **Starting Price**: CAD ~$50,000 (prices may vary)\\n4. **Engine Options**: \\n   - Single-motor RWD (167-225 hp)\\n   - Dual-motor AWD (320 hp)\\n5. **Key Features**: \\n   - Fast charging capability (up to 80% in 18 minutes)\\n   - Long-range battery (up to 500 km range)\\n   - 12.3-inch dual widescreen displays\\n   - Advanced Driver Assistance Systems (ADAS)\\n6. **Available Trims**: \\n   - Standard Range RWD\\n   - Long Range RWD\\n   - Long Range AWD\\n   - GT-Line AWD\\n7. **Fuel Economy (City/Highway)**: Electric consumption ~18.5/17.8 kWh/100 km\\n8. **Safety Ratings**: Expected to be high; not yet rated by IIHS and NHTSA\\n9. **Warranty Information**: \\n   - 5-year/100,000 km comprehensive warranty\\n   - 5-year/unlimited km roadside assistance\\n   - 8-year/160,000 km battery warranty\\n10. **Financial Rate**: Approx. 1.99% APR (subject to change)\\n11. **Lease Rate**: Approx. 2.49% (subject to change)\\n12. **Type**: Electric SUV\\n13. **Link to Official Webpage**: [Kia EV6](https://www.kia.ca/ev6)\",\n",
      "        \"### 3. Kia Sorento\\n#### Model Name:\\nKia Sorento\\n#### Year:\\n2024\\n#### Starting Price:\\nApproximately CAD $35,000\\n#### Engine Options:\\n- 2.5L GDI 4-cylinder engine\\n- 2.5L Turbocharged 4-cylinder engine\\n#### Key Features:\\n- All-Wheel Drive\\n- Blind-Spot Collision-Avoidance Assist\\n- UVO Intelligence Telematics\\n- 12.3-inch digital instrument cluster\\n- Panoramic Sunroof\\n#### Available Trims:\\n- LX\\n- EX\\n- EX+\\n- SX\\n#### Fuel Economy (City/Highway):\\n2.5L Engine:\\n- City: 10.1 L/100 km\\n- Highway: 8.5 L/100 km\\n2.5L Turbo Engine:\\n- City: 11.3 L/100 km\\n- Highway: 9.8 L/100 km\\n#### Safety Ratings:\\n- IIHS Top Safety Pick+ (specific ratings may vary)\\n- NHTSA: 5 stars (overall)\\n#### Warranty Information:\\n- 5 years/100,000 km comprehensive warranty\\n#### Financial Rate:\\nVaries; typically starting at around 1.99% APR for financing\\n#### Lease Rate:\\nVaries; typically starting at around 2.9% APR\\n#### Type:\\nMid-size SUV\\n#### Link to Official Webpage:\\n[2024 Kia Sorento](https://www.kia.ca/sorento)\",\n",
      "        \"### 3. Kia Sorento\\n#### Model Name:\\nKia Sorento\\n#### Year:\\n2024\\n#### Starting Price:\\nApproximately CAD $35,000\\n#### Engine Options:\\n- 2.5L GDI 4-cylinder engine\\n- 2.5L Turbocharged 4-cylinder engine\\n#### Key Features:\\n- All-Wheel Drive\\n- Blind-Spot Collision-Avoidance Assist\\n- UVO Intelligence Telematics\\n- 12.3-inch digital instrument cluster\\n- Panoramic Sunroof\\n#### Available Trims:\\n- LX\\n- EX\\n- EX+\\n- SX\\n#### Fuel Economy (City/Highway):\\n2.5L Engine:\\n- City: 10.1 L/100 km\\n- Highway: 8.5 L/100 km\\n2.5L Turbo Engine:\\n- City: 11.3 L/100 km\\n- Highway: 9.8 L/100 km\\n#### Safety Ratings:\\n- IIHS Top Safety Pick+ (specific ratings may vary)\\n- NHTSA: 5 stars (overall)\\n#### Warranty Information:\\n- 5 years/100,000 km comprehensive warranty\\n#### Financial Rate:\\nVaries; typically starting at around 1.99% APR for financing\\n#### Lease Rate:\\nVaries; typically starting at around 2.9% APR\\n#### Type:\\nMid-size SUV\\n#### Link to Official Webpage:\\n[2024 Kia Sorento](https://www.kia.ca/sorento)\",\n",
      "        \"### 2. Honda CR-V Hybrid\\n\\n1. **Model Name:** Honda CR-V Hybrid\\n2. **Year:** 2024\\n3. **Starting Price:** CAD 41,250\\n4. **Engine Options:**\\n   - 2.0-litre I-4 Hybrid Engine\\n5. **Key Features:**\\n   - Honda Sensing\\u00ae suite of safety and driver-assist technologies\\n   - Real-time AWD with Intelligent Control System\\u2122\\n   - Apple CarPlay\\u00ae and Android Auto\\u2122 integration\\n   - Split-folding rear seats\\n6. **Available Trims:**\\n   - Hybrid Sport\\n   - Hybrid Touring\\n7. **Fuel Economy (City/Highway):**\\n   - Approximately 5.3 / 5.4 L/100 km\\n8. **Safety Ratings:**\\n   - IIHS Top Safety Pick+\\n   - NHTSA Overall 5-Star Rating\\n9. **Warranty Information:**\\n   - 3-year/60,000 km limited warranty\\n   - 5-year/100,000 km powertrain warranty\\n   - 8-year/160,000 km hybrid system warranty\\n10. **Financial Rate:** Starting at 3.99% APR for financing over 60 months\\n11. **Lease Rate:** Starting at 3.49% APR for lease over 48 months\\n12. **Type:** Hybrid SUV\\n13. **Link to Official Webpage:** [Honda CR-V Hybrid](https://www.honda.ca/cr-v-hybrid)\\n\\n### 3. Honda HR-V\",\n",
      "        \"### 3. Kia Sorento\\n#### Model Name:\\nKia Sorento\\n#### Year:\\n2024\\n#### Starting Price:\\nApproximately CAD $35,000\\n#### Engine Options:\\n- 2.5L GDI 4-cylinder engine\\n- 2.5L Turbocharged 4-cylinder engine\\n#### Key Features:\\n- All-Wheel Drive\\n- Blind-Spot Collision-Avoidance Assist\\n- UVO Intelligence Telematics\\n- 12.3-inch digital instrument cluster\\n- Panoramic Sunroof\\n#### Available Trims:\\n- LX\\n- EX\\n- EX+\\n- SX\\n#### Fuel Economy (City/Highway):\\n2.5L Engine:\\n- City: 10.1 L/100 km\\n- Highway: 8.5 L/100 km\\n2.5L Turbo Engine:\\n- City: 11.3 L/100 km\\n- Highway: 9.8 L/100 km\\n#### Safety Ratings:\\n- IIHS Top Safety Pick+ (specific ratings may vary)\\n- NHTSA: 5 stars (overall)\\n#### Warranty Information:\\n- 5 years/100,000 km comprehensive warranty\\n#### Financial Rate:\\nVaries; typically starting at around 1.99% APR for financing\\n#### Lease Rate:\\nVaries; typically starting at around 2.9% APR\\n#### Type:\\nMid-size SUV\\n#### Link to Official Webpage:\\n[2024 Kia Sorento](https://www.kia.ca/sorento)\"\n",
      "    ],\n",
      "    \"generated_answers\": [\n",
      "        \"I recommend the Kia EV6. It has a long-range battery offering up to 500 km on a single charge, making it ideal for long-distance travel. More details and purchase options are available [here](https://www.kia.ca/ev6).\",\n",
      "        \"I recommend the **Kia Sorento**. It\\u2019s a reliable mid-size SUV with advanced safety features, spacious seating for a family of four, and excellent fuel efficiency. Learn more and buy it [here](https://www.kia.ca/sorento).\",\n",
      "        \"The Kia Sorento is an excellent choice if you\\u2019re looking for a car with a spacious trunk. It\\u2019s a mid-size SUV that offers ample cargo space, perfect for family trips or carrying large items. You can explore more details and purchase it [here](https://www.kia.ca/sorento).\",\n",
      "        \"The Honda CR-V Hybrid offers excellent fuel efficiency, with approximately 5.3 L/100 km in the city and 5.4 L/100 km on the highway. For more details and to buy it, visit the [Honda CR-V Hybrid](https://www.honda.ca/cr-v-hybrid).\",\n",
      "        \"I recommend the **Kia Seltos**. It\\u2019s a compact SUV that\\u2019s easy to park in the city, offers advanced driver assistance systems, and has a fuel-efficient engine. You can learn more and buy it [here](https://www.kia.ca/seltos).\"\n",
      "    ],\n",
      "    \"context_relevance_scores\": [\n",
      "        0.10596395744140033,\n",
      "        0.020952840189126704,\n",
      "        0.0,\n",
      "        0.1951946798984531,\n",
      "        0.03682295724389945\n",
      "    ]\n",
      "}\n",
      "Evaluation data has been generated and saved to evaluation_data.json\n"
     ]
    }
   ],
   "source": [
    "evaluation_results = {\n",
    "    \"questions\": queries,\n",
    "    \"retrieved_contexts\": retrieved_contexts,\n",
    "    \"generated_answers\": generated_answers,\n",
    "    \"context_relevance_scores\": context_relevance_scores\n",
    "}\n",
    "\n",
    "print(json.dumps(evaluation_results, indent=4))\n",
    "\n",
    "with open('evaluation_data.json', 'w') as f:\n",
    "    json.dump(evaluation_results, f, indent=4)\n",
    "\n",
    "print(\"Evaluation data has been generated and saved to evaluation_data.json\")"
   ]
  }
 ],
 "metadata": {
  "kernelspec": {
   "display_name": "Python 3",
   "language": "python",
   "name": "python3"
  },
  "language_info": {
   "codemirror_mode": {
    "name": "ipython",
    "version": 3
   },
   "file_extension": ".py",
   "mimetype": "text/x-python",
   "name": "python",
   "nbconvert_exporter": "python",
   "pygments_lexer": "ipython3",
   "version": "3.11.5"
  }
 },
 "nbformat": 4,
 "nbformat_minor": 2
}
